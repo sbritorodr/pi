{
  "cells": [
    {
      "cell_type": "markdown",
      "metadata": {
        "id": "50ZNhFL1W0-9"
      },
      "source": [
        "# Compute of pi $\\pi$\n",
        "\n",
        "1. Archimedes method\n",
        "2. Montecarlo Method\n",
        "3. Basel's Algorithm\n",
        "4. Chunovonsky Algorithm"
      ]
    },
    {
      "cell_type": "markdown",
      "metadata": {},
      "source": [
        "## Archimedes method\n",
        "In ancient times, this method was used to calculate $\\pi$ accurately. It consists of making an approximation:\n",
        "\n",
        "We know that the perimeter of a circle is $2\\pi r$ and that a polygon, the more sides it has, the closer it gets to the shape of a circle. A circle could be said to be a polygon with $\\infty$ sides:\n",
        "\n",
        "The perimeter of a polygon of $n$ sides with a constant length $l$ on each side would be:\n"
      ]
    },
    {
      "cell_type": "code",
      "execution_count": null,
      "metadata": {},
      "outputs": [],
      "source": [
        "import math as mp\n",
        "from decimal import *\n",
        "\n",
        "def ngonpi(n):\n",
        "    # What now follows is to increase the number of sides from an inscribed square and a circumscribed octagon.\n",
        "    r = 1 # radius of the circumference\n",
        "    polA = Decimal(4 * mp.sqrt(2) * r) # perimeter of a square inside the circumference\n",
        "    polB = Decimal(8 * r) # perimeter of an octagon (twice the sides of the square) outside the circumference\n",
        "\n",
        "    m = 4 # side number\n",
        "\n",
        "    while m*2 <= n:\n",
        "        polB = Decimal(2 * polA * polB / (polA + polB))\n",
        "        polA = Decimal(mp.sqrt(polA * polB))\n",
        "        m = m * 2 # double increment\n",
        "    pi = Decimal((polA / 2 / r + polB / 2 / r) /2) # mean of the perimeter of both polygons\n",
        "    err = abs(polA / 2 / r - polB / 2 / r) /2 # the subtraction of the perimeter gives us the error\n",
        "    return pi, err\n",
        "\n",
        "def check_digits(digit_string): # this will check how many digits you've computed\n",
        "    exact_pi_val = str(31415926535897932384626433832795028841971693993751058209749445923078164062862089986280348253421170679821480865132823066470938446095505822317253594081284811174502841027019385211055596446229489549303819644288109756659334461284756482337867831652712019091456485669234603486104543266482133936072602491412737245870066063155881748815209209628292540917153643678925903600113305305488204665213841469519415116094330572703657595919530921861173819326117931051185480744623799627495673518857527248912279381830119491298336733624406566430860213949463952247371907021798609437027705392171762931767523846748184676694051320005681271452635608277857713427577896091736371787214684409012249534301465495853710507922796892589235420199561121290219608640344181598136297747713099605187072113499999983729780499510597317328160963185950244594553469083026425223082533446850352619311881710100031378387528865875332083814206171776691473035982534904287554687311595628638823537875937519577818577805321712268066130019278766111959092164201989)\n",
        "    pi_digits = 0\n",
        "    if len(digit_string) > len(exact_pi_val):\n",
        "        print(\"You've computed more digits than the database!\")\n",
        "    else:\n",
        "        for i in range(len(digit_string)): \n",
        "            if digit_string[i] == exact_pi_val[i]:\n",
        "                # print(\"pi_val_database: \", exact_pi_val)\n",
        "                pi_digits += 1\n",
        "                #print(\"pi_digits: \", pi_digits)\n",
        "        print(\"\\nYou computed \",pi_digits,\" digits of pi!\")\n",
        "\n",
        "n = 12345678 # maximum sides of the polygon, change this to change pi accuracy\n",
        "pi, err = ngonpi(n)\n",
        "print(pi)\n",
        "check_digits(digit_string = str(pi))"
      ]
    },
    {
      "cell_type": "markdown",
      "metadata": {},
      "source": [
        "## Montecarlo Method\n",
        "This method is so named because it requires random numbers to compute a fixed number.\n",
        "\n",
        "We know that the area of ​​a square is $A = {l}^{2}$ and the area of ​​a circle is $B = \\pi {r}^{2}$. From this we can find the value of $\\pi$: $\\pi = \\frac{A}{{r}^{2}}$\n",
        "\n",
        "How do we calculate the area of ​​a circle, without using $\\pi$? This is the problem.\n",
        "\n",
        "If we put a square inside a circle, we know that the radius of the circle is half the square, so we have the following:\n",
        "\n",
        "$\\frac{A}{B} = \\frac{{l}^{2}}{\\pi {\\frac{l}{2}}^{2}} \\rightarrow \\frac{A}{B} = \\frac{{l}^{2}}{\\pi \\frac{{l}^{2}}{4}} \\rightarrow \\frac{A}{B} = \\frac{4}{\\pi} \\rightarrow \\pi = 4\\frac{B}{A}$\n",
        "\n",
        "Now it's time to calculate $\\frac{B}{A}$. We can do this by throwing some points randomly and counting what is inside the circle $B$ among those outside $A$\n",
        "\n",
        "Knowing that the inequality of a circle in a plane is ${x}^{2}+{y}^{2} < {r}^{2}$, all those points that satisfy this inequality will be inside the circle."
      ]
    },
    {
      "cell_type": "code",
      "execution_count": null,
      "metadata": {},
      "outputs": [],
      "source": [
        "import math as mp\n",
        "import random as rnd\n",
        "from decimal import *\n",
        "\n",
        "def montecarlo(dartN = 12345, rep = 10): # number of darts to throw\n",
        "    r = 1 # radius of the circle\n",
        "    x = 0; y = 0 # darts coordinates\n",
        "    B = 0 # number of darts inside the circle\n",
        "    pi_array = [] # array to store pi values\n",
        "\n",
        "    j = 0\n",
        "    while j < rep: # will repeat the throw of N darts \"rep\" times\n",
        "        i = 0\n",
        "        while i < dartN:\n",
        "            x = rnd.random() * r\n",
        "            y = rnd.random() * r\n",
        "            if (x**2 + y**2) <= r**2:\n",
        "                B += 1\n",
        "            i += 1\n",
        "        j += 1\n",
        "        pi_array.append(4*B/dartN) # will save the value of pi at each iteration\n",
        "        B = 0 # resets the dart counter inside the circle\n",
        "    pi = 0\n",
        "    err = 0\n",
        "    for i in range(len(pi_array)):\n",
        "        pi += pi_array[i]/rep # add the mean of all values\n",
        "    for i in range(len(pi_array)):\n",
        "        err += (pi-pi_array[i])**2/rep # sum the error of all values\n",
        "    err = mp.sqrt(err) # calculate the error\n",
        "\n",
        "    return pi, err\n",
        "\n",
        "pi,err = montecarlo(999, 100) # Change here the number of darts to throw and the number of repetitions\n",
        "\n",
        "print(pi, err)"
      ]
    },
    {
      "cell_type": "markdown",
      "metadata": {
        "id": "lAb_pJhLJfPM"
      },
      "source": [
        "## Basel algorithm\n",
        "The first algorithm used for the calculation of $\\pi$. Useful for humans but quite slow compared to other methods. This is its formula:\n",
        "\n",
        "$\\sum_{n}\\frac{1}{n^{2}}= \\frac{\\pi^{2}}{6}$\n",
        "where n is a natural number other than 0\n",
        "Reordered:\n",
        "\n",
        "$\\pi = \\sqrt{6\\cdot \\left [\\sum_{n}\\frac{1}{n^{2}} \\right ]}$\n",
        "\n"
      ]
    },
    {
      "cell_type": "code",
      "execution_count": null,
      "metadata": {
        "id": "FxN6we2UJXcq"
      },
      "outputs": [],
      "source": [
        "# Code for Basilea's problem\n",
        "import time # this is used to count the time between the operations\n",
        "import datetime\n",
        "import math as mp\n",
        "from decimal import *\n",
        "def pi_basel(n):\n",
        "  k = 1 # remember, should start by 1\n",
        "  pi_basel = 0\n",
        "  while k<n:\n",
        "    pi_basel += Decimal(1/mp.pow(k,2)) #The formula\n",
        "    k += 1\n",
        "  pi_basel = Decimal(mp.sqrt(6 * pi_basel))\n",
        "  return pi_basel\n",
        "\n",
        "  \n",
        "\n",
        "exact_pi_val = str(3.1415926535897932384626433832795028841971693993751058209749445923078164062862089986280348253421170679821480865132823066470938446095505822317253594081284811174502841027019385211055596446229489549303819644288109756659334461284756482337867831652712019091456485669234603486104543266482133936072602491412737245870066063155881748815209209628292540917153643678925903600113305305488204665213841469519415116094330572703657595919530921861173819326117931051185480744623799627495673518857527248912279381830119491298336733624406566430860213949463952247371907021798609437027705392171762931767523846748184676694051320005681271452635608277857713427577896091736371787214684409012249534301465495853710507922796892589235420199561121290219608640344181598136297747713099605187072113499999983729780499510597317328160963185950244594553469083026425223082533446850352619311881710100031378387528865875332083814206171776691473035982534904287554687311595628638823537875937519577818577805321712268066130019278766111959092164201989)\n",
        "end = 12000 # Limit range, default is 1200\n",
        "start_time = time.time_ns()/1000 # start time in microseconds\n",
        "for n in range(1,end): # n starts from 1. This avoids the Google Machine to be forever running.\n",
        "    print(pi_basel(n))\n",
        "\n",
        "pi_result = str(pi_basel(end))\n",
        "print(\"\\n\\n\" + pi_result)\n",
        "computed_digits = 0\n",
        "i = 0\n",
        "while i < len(pi_result):\n",
        "  if pi_result[i] == exact_pi_val[i]:\n",
        "    computed_digits +=1\n",
        "    i +=1\n",
        "  else: \n",
        "    computed_digits -=1\n",
        "    break\n",
        "end_time = time.time_ns()/1000 # end time in microseconds\n",
        "delta = datetime.timedelta(microseconds=end_time-start_time)\n",
        "print(\"You computed \" + str(computed_digits) + \" digits of pi in \" + str(delta), \" (hours:minutes:seconds.microseconds)\")"
      ]
    },
    {
      "cell_type": "markdown",
      "metadata": {
        "id": "mitnNa3l47rB"
      },
      "source": [
        "To compute **5** digits of $\\pi$ the program took 1 minute, 59 seconds to execute using `end = 12000`"
      ]
    },
    {
      "cell_type": "markdown",
      "metadata": {
        "id": "f_NJaRlME2yg"
      },
      "source": [
        "## Chudnovonsky algorithm\n",
        "This algorithm managed to break the pi record in 2016 with a home computer. Use this formula to compute $π$:\n",
        "\n",
        "$\\frac{1}{\\pi} = 12 \\sum^\\infty_{k=0} \\frac{(-1)^k (6k)! (13591409 + 545140134k)}{(3k)!(k!)^3 640320^{3k + \\frac{3}{2}}}$\n",
        "\n",
        "Run the code below and see how fast it generates $π$!"
      ]
    },
    {
      "cell_type": "code",
      "execution_count": null,
      "metadata": {
        "colab": {
          "background_save": true,
          "base_uri": "https://localhost:8080/"
        },
        "id": "AZvNiRTZEqMk",
        "outputId": "a9d80ef1-f794-4b7d-b342-17d44780a2b0"
      },
      "outputs": [],
      "source": [
        "# DiclaimeR DO NOT disable the limit. Google could ban you!\n",
        "import time\n",
        "from datetime import timedelta\n",
        "import math as mp\n",
        "from decimal import *\n",
        "import signal\n",
        "import sys\n",
        "def pi_chudn(n):\n",
        "    getcontext().prec = n+50\n",
        "    k=0\n",
        "    pi_chud = 0\n",
        "    while k<n:\n",
        "        pi_chud+=(((Decimal(-1))**k ) * (Decimal(mp.factorial(6*k)))*(13591409 + 545140134*k))/Decimal((mp.factorial(3*k)*((mp.factorial(k))**3)*(640320**((3*k)+(Decimal(1.5))))))\n",
        "        k+=1\n",
        "    pi_chud = (Decimal(pi_chud) * 12)\n",
        "    pi_chud = (Decimal(pi_chud**(-1)))\n",
        "    return int(pi_chud*10**n)\n",
        "\n",
        "def check_digits(digit_string, do_time_too = True): # this will check how many digits you've computed\n",
        "    exact_pi_val = str(31415926535897932384626433832795028841971693993751058209749445923078164062862089986280348253421170679821480865132823066470938446095505822317253594081284811174502841027019385211055596446229489549303819644288109756659334461284756482337867831652712019091456485669234603486104543266482133936072602491412737245870066063155881748815209209628292540917153643678925903600113305305488204665213841469519415116094330572703657595919530921861173819326117931051185480744623799627495673518857527248912279381830119491298336733624406566430860213949463952247371907021798609437027705392171762931767523846748184676694051320005681271452635608277857713427577896091736371787214684409012249534301465495853710507922796892589235420199561121290219608640344181598136297747713099605187072113499999983729780499510597317328160963185950244594553469083026425223082533446850352619311881710100031378387528865875332083814206171776691473035982534904287554687311595628638823537875937519577818577805321712268066130019278766111959092164201989)\n",
        "    pi_digits = 0\n",
        "    if len(digit_string) > len(exact_pi_val):\n",
        "        print(\"You computer more than \", len(exact_pi_val), \" digits of pi!\")\n",
        "    else:\n",
        "        for i in range(len(digit_string)): \n",
        "            if digit_string[i] == exact_pi_val[i]:\n",
        "                # print(\"pi_val_database: \", exact_pi_val)\n",
        "                pi_digits += 1\n",
        "                #print(\"pi_digits: \", pi_digits)\n",
        "        print(\"\\nYou computed \", pi_digits, \" digits of pi\")\n",
        "        if do_time_too:\n",
        "            delta = timedelta(microseconds=end_time-start_time)\n",
        "            print(\"\\nYou computed \", pi_digits, \" digits of pi in \", delta, \" (hours : minutes : seconds . microseconds).\")\n",
        "\n",
        "def sigint_handler(signal, frame): # this only prints the last calculated digit when Ctrl+C\n",
        "    print ('\\nLast Digits calculated: \\n' + pi_result)\n",
        "    check_digits(pi_result, do_time_too= False)\n",
        "    sys.exit(0)\n",
        "signal.signal(signal.SIGINT, sigint_handler)\n",
        "\n",
        "end = 1200 # CHANGE THIS LIMIT\n",
        "start_time = time.time_ns()/1000 # time in microseconds since epoch\n",
        "for n in range(1, end): # n starts from 1. This avoids the Google Machine to be forever running.\n",
        "    # print(int(exact_pi_val[:n+1]))\n",
        "    if n == end:\n",
        "      break\n",
        "    pi_result = str(pi_chudn(n))\n",
        "    print(pi_result) # COMMENT/UNCOMMENT THIS IF YOU WANT TO SEE THE PROGRESS IN THE TERMINAL\n",
        "end_time = time.time_ns()/1000\n",
        "print(pi_result)\n",
        "\n",
        "check_digits(digit_string=pi_result)"
      ]
    },
    {
      "cell_type": "markdown",
      "metadata": {
        "id": "hMu0RW-EEbvK"
      },
      "source": [
        "To compute 5 digits of $\\pi$ the program took 1720 microseconds (one millionth of a second!) to execute using `end = 4`\n",
        "\n",
        "To calculate 154 digits it has used 12 seconds\n",
        "\n",
        "To calculate 288 digits you have used 1 min and 59 seconds\n",
        "\n",
        "To calculate 769 digits you have used 1h and 58 min"
      ]
    }
  ],
  "metadata": {
    "colab": {
      "collapsed_sections": [],
      "name": "Cálculo de Pi.ipynb",
      "provenance": []
    },
    "kernelspec": {
      "display_name": "Python 3.7.3 64-bit",
      "language": "python",
      "name": "python3"
    },
    "language_info": {
      "codemirror_mode": {
        "name": "ipython",
        "version": 3
      },
      "file_extension": ".py",
      "mimetype": "text/x-python",
      "name": "python",
      "nbconvert_exporter": "python",
      "pygments_lexer": "ipython3",
      "version": "3.7.3"
    },
    "vscode": {
      "interpreter": {
        "hash": "31f2aee4e71d21fbe5cf8b01ff0e069b9275f58929596ceb00d14d90e3e16cd6"
      }
    }
  },
  "nbformat": 4,
  "nbformat_minor": 0
}
