{
  "cells": [
    {
      "cell_type": "markdown",
      "metadata": {
        "id": "50ZNhFL1W0-9"
      },
      "source": [
        "# Cálculo del Número $\\pi$\n",
        "\n",
        "1. Algoritmo de Basilea\n",
        "2. Algoritmo de Chunovonsky\n",
        "\n",
        "\n"
      ]
    },
    {
      "cell_type": "markdown",
      "metadata": {
        "id": "lAb_pJhLJfPM"
      },
      "source": [
        "## Algoritmo de Basilea\n",
        "El primer algoritmo usado para el cálculo de $\\pi$. Útil para humanos pero bastante lento en conparación con los demás métodos. Esta es su fórmula:\n",
        "\n",
        "$\\sum_{n}\\frac{1}{n^{2}}= \\frac{\\pi^{2}}{6}$\n",
        "Donde n es un número natural distinto de 0\n",
        "Reordenado:\n",
        "\n",
        "$\\pi = \\sqrt{6\\cdot \\left [\\sum_{n}\\frac{1}{n^{2}}  \\right ]}$\n",
        "\n"
      ]
    },
    {
      "cell_type": "code",
      "execution_count": 7,
      "metadata": {
        "colab": {
          "base_uri": "https://localhost:8080/"
        },
        "id": "FxN6we2UJXcq",
        "outputId": "26e9f296-0904-49b5-f0c3-350bdcd9d205"
      },
      "outputs": [
        {
          "output_type": "stream",
          "name": "stdout",
          "text": [
            "3.14151307179445726802669014432467520236968994140625\n",
            "You computed 5 digits of pi in 0:01:59.183757  (hours:minutes:seconds.microseconds)\n"
          ]
        }
      ],
      "source": [
        "# Code for Basilea's problem\n",
        "import time # this is used to count the time between the operations\n",
        "import datetime\n",
        "import math as mp\n",
        "from decimal import *\n",
        "def pi_basel(n):\n",
        "  k = 1 # remember, should start by 1\n",
        "  pi_basel = 0\n",
        "  while k<n:\n",
        "    pi_basel += Decimal(1/mp.pow(k,2)) #The formula\n",
        "    k += 1\n",
        "  pi_basel = Decimal(mp.sqrt(6 * pi_basel))\n",
        "  return pi_basel\n",
        "\n",
        "  \n",
        "\n",
        "exact_pi_val = str(3.1415926535897932384626433832795028841971693993751058209749445923078164062862089986280348253421170679821480865132823066470938446095505822317253594081284811174502841027019385211055596446229489549303819644288109756659334461284756482337867831652712019091456485669234603486104543266482133936072602491412737245870066063155881748815209209628292540917153643678925903600113305305488204665213841469519415116094330572703657595919530921861173819326117931051185480744623799627495673518857527248912279381830119491298336733624406566430860213949463952247371907021798609437027705392171762931767523846748184676694051320005681271452635608277857713427577896091736371787214684409012249534301465495853710507922796892589235420199561121290219608640344181598136297747713099605187072113499999983729780499510597317328160963185950244594553469083026425223082533446850352619311881710100031378387528865875332083814206171776691473035982534904287554687311595628638823537875937519577818577805321712268066130019278766111959092164201989)\n",
        "end = 12000 # Limit range, default is 1200\n",
        "start_time = time.time_ns()/1000 # start time in microseconds\n",
        "for n in range(1,end): # n starts from 1. This avoids the Google Machine to be forever running.\n",
        "    print(pi_basel(n))\n",
        "\n",
        "pi_result = str(pi_basel(end))\n",
        "print(\"\\n\\n\" + pi_result)\n",
        "computed_digits = 0\n",
        "i = 0\n",
        "while i < len(pi_result):\n",
        "  if pi_result[i] == exact_pi_val[i]:\n",
        "    computed_digits +=1\n",
        "    i +=1\n",
        "  else: \n",
        "    computed_digits -=1\n",
        "    break\n",
        "end_time = time.time_ns()/1000 # end time in microseconds\n",
        "delta = datetime.timedelta(microseconds=end_time-start_time)\n",
        "print(\"You computed \" + str(computed_digits) + \" digits of pi in \" + str(delta), \" (hours:minutes:seconds.microseconds)\")"
      ]
    },
    {
      "cell_type": "markdown",
      "source": [
        "Para computar **5** dígitos de $\\pi$ el programa ha tardado 1 minuto, 59 segundos en ejecutarse usando `end = 12000`"
      ],
      "metadata": {
        "id": "mitnNa3l47rB"
      }
    },
    {
      "cell_type": "markdown",
      "metadata": {
        "id": "f_NJaRlME2yg"
      },
      "source": [
        "## Algoritmo Chudnovonsky\n",
        "Este algoritmo logró romper el récord de pi en el año 2016 con un ordenador de casa. Usa esta fórmula para computar $π$:\n",
        "\n",
        "$\\frac{1}{\\pi} = 12 \\sum^\\infty_{k=0} \\frac{(-1)^k (6k)! (13591409 + 545140134k)}{(3k)!(k!)^3 640320^{3k + 3/2}}$\n",
        "\n",
        "Ejecuta el código de abajo y observa la velocidad con la que genera $π$!"
      ]
    },
    {
      "cell_type": "code",
      "execution_count": null,
      "metadata": {
        "colab": {
          "base_uri": "https://localhost:8080/"
        },
        "id": "AZvNiRTZEqMk",
        "outputId": "e502dbb4-2a3e-41c0-edf7-1b0dd1c77e99"
      },
      "outputs": [
        {
          "output_type": "stream",
          "name": "stdout",
          "text": [
            "31415926535897932384626433832795028841971693993751058209749445923078164062862089986280348253421170679821480865132823066470938446095505822317253594081284811174502841027019385211055596446229489549303819644288109756659334461284756482337867831652712\n"
          ]
        }
      ],
      "source": [
        "# DiclaimeR DO NOT disable the limit. Google could ban you!\n",
        "import time\n",
        "from datetime import timedelta\n",
        "import math as mp\n",
        "from decimal import *\n",
        "import signal\n",
        "import sys\n",
        "def pi_chudn(n):\n",
        "    getcontext().prec = n+50\n",
        "    k=0\n",
        "    pi_chud = 0\n",
        "    while k<n:\n",
        "        pi_chud+=(((Decimal(-1))**k ) * (Decimal(mp.factorial(6*k)))*(13591409 + 545140134*k))/Decimal((mp.factorial(3*k)*((mp.factorial(k))**3)*(640320**((3*k)+(Decimal(1.5))))))\n",
        "        k+=1\n",
        "    pi_chud = (Decimal(pi_chud) * 12)\n",
        "    pi_chud = (Decimal(pi_chud**(-1)))\n",
        "    return int(pi_chud*10**n)\n",
        "\n",
        "def check_digits(digit_string, do_time_too = True): # this will check how many digits you've computed\n",
        "    exact_pi_val = str(31415926535897932384626433832795028841971693993751058209749445923078164062862089986280348253421170679821480865132823066470938446095505822317253594081284811174502841027019385211055596446229489549303819644288109756659334461284756482337867831652712019091456485669234603486104543266482133936072602491412737245870066063155881748815209209628292540917153643678925903600113305305488204665213841469519415116094330572703657595919530921861173819326117931051185480744623799627495673518857527248912279381830119491298336733624406566430860213949463952247371907021798609437027705392171762931767523846748184676694051320005681271452635608277857713427577896091736371787214684409012249534301465495853710507922796892589235420199561121290219608640344181598136297747713099605187072113499999983729780499510597317328160963185950244594553469083026425223082533446850352619311881710100031378387528865875332083814206171776691473035982534904287554687311595628638823537875937519577818577805321712268066130019278766111959092164201989)\n",
        "    pi_digits = 0\n",
        "    for i in range(len(digit_string)): \n",
        "        if digit_string[i] == exact_pi_val[i]:\n",
        "            # print(\"pi_val_database: \", exact_pi_val)\n",
        "            pi_digits += 1\n",
        "            #print(\"pi_digits: \", pi_digits)\n",
        "\n",
        "    print(\"\\nYou computed \", pi_digits, \" digits of pi\")\n",
        "    if do_time_too:\n",
        "        delta = timedelta(microseconds=end_time-start_time)\n",
        "        print(\"\\nYou computed \", pi_digits, \" digits of pi in \", delta, \" (hours : minutes : seconds . microseconds).\")\n",
        "\n",
        "def sigint_handler(signal, frame): # this only prints the last calculated digit when Ctrl+C\n",
        "    print ('\\nLast Digits calculated: \\n' + pi_result)\n",
        "    check_digits(pi_result, do_time_too= False)\n",
        "    sys.exit(0)\n",
        "signal.signal(signal.SIGINT, sigint_handler)\n",
        "\n",
        "end = 1200 # CHANGE THIS LIMIT\n",
        "start_time = time.time_ns()/1000 # time in microseconds since epoch\n",
        "for n in range(1, end): # n starts from 1. This avoids the Google Machine to be forever running.\n",
        "    # print(int(exact_pi_val[:n+1]))\n",
        "    if n == end:\n",
        "      break\n",
        "    pi_result = str(pi_chudn(n))\n",
        "    print(pi_result) # COMMENT/UNCOMMENT THIS IF YOU WANT TO SEE THE PROGRESS IN THE TERMINAL\n",
        "end_time = time.time_ns()/1000\n",
        "print(pi_result)\n",
        "\n",
        "check_digits(digit_string=pi_result)"
      ]
    },
    {
      "cell_type": "markdown",
      "source": [
        "Para computar 5 dígitos de $\\pi$ el programa ha tardado 1720 microsegundos (una millonésima parte de un segundo!) en ejecutarse usando end = 4\n",
        "\n",
        "Para calcular 154 dígitos ha usado 12 segundos.\n",
        "\n",
        "Para calcular 288 dígitos ha usado 1 min y 59 segundos\n"
      ],
      "metadata": {
        "id": "hMu0RW-EEbvK"
      }
    }
  ],
  "metadata": {
    "colab": {
      "collapsed_sections": [],
      "name": "Cálculo de Pi.ipynb",
      "provenance": []
    },
    "kernelspec": {
      "display_name": "Python 3",
      "name": "python3"
    },
    "language_info": {
      "name": "python"
    }
  },
  "nbformat": 4,
  "nbformat_minor": 0
}
